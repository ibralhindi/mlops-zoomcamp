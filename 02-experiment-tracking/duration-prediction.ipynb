{
 "cells": [
  {
   "cell_type": "code",
   "execution_count": 1,
   "id": "1fff68b7",
   "metadata": {},
   "outputs": [],
   "source": [
    "# mlflow ui --backend-store-uri sqlite:///mlflow.db"
   ]
  },
  {
   "cell_type": "code",
   "execution_count": 1,
   "id": "34a8ff76",
   "metadata": {},
   "outputs": [],
   "source": [
    "import pandas as pd\n",
    "import seaborn as sns\n",
    "import matplotlib.pyplot as plt\n",
    "from sklearn.feature_extraction import DictVectorizer\n",
    "from sklearn.linear_model import LinearRegression\n",
    "from sklearn.metrics import mean_squared_error\n",
    "from sklearn.metrics import root_mean_squared_error\n",
    "from sklearn.linear_model import Lasso\n",
    "from sklearn.linear_model import Ridge\n",
    "from datetime import datetime\n",
    "import pickle"
   ]
  },
  {
   "cell_type": "code",
   "execution_count": 2,
   "id": "ff130c17",
   "metadata": {},
   "outputs": [
    {
     "name": "stderr",
     "output_type": "stream",
     "text": [
      "2025/07/22 16:10:23 INFO mlflow.store.db.utils: Creating initial MLflow database tables...\n",
      "2025/07/22 16:10:23 INFO mlflow.store.db.utils: Updating database tables\n",
      "INFO  [alembic.runtime.migration] Context impl SQLiteImpl.\n",
      "INFO  [alembic.runtime.migration] Will assume non-transactional DDL.\n",
      "INFO  [alembic.runtime.migration] Context impl SQLiteImpl.\n",
      "INFO  [alembic.runtime.migration] Will assume non-transactional DDL.\n"
     ]
    }
   ],
   "source": [
    "import mlflow\n",
    "from mlflow.models.signature import infer_signature\n",
    "from mlflow.tracking import MlflowClient\n",
    "from mlflow.entities import ViewType\n",
    "\n",
    "MLFLOW_TRACKING_URI = \"sqlite:///mlflow.db\"\n",
    "\n",
    "client = MlflowClient(tracking_uri=MLFLOW_TRACKING_URI)"
   ]
  },
  {
   "cell_type": "code",
   "execution_count": 3,
   "id": "0b2973a1",
   "metadata": {},
   "outputs": [
    {
     "data": {
      "text/plain": [
       "<Experiment: artifact_location='/workspaces/mlops-zoomcamp/02-experiment-tracking/mlruns/1', creation_time=1752768385078, experiment_id='1', last_update_time=1752768385078, lifecycle_stage='active', name='nyc-taxi-experiment', tags={}>"
      ]
     },
     "execution_count": 3,
     "metadata": {},
     "output_type": "execute_result"
    }
   ],
   "source": [
    "mlflow.set_tracking_uri(\"sqlite:///mlflow.db\")\n",
    "mlflow.set_experiment(\"nyc-taxi-experiment\")"
   ]
  },
  {
   "cell_type": "code",
   "execution_count": 4,
   "id": "ca6b4cf7",
   "metadata": {},
   "outputs": [],
   "source": [
    "import xgboost as xgb\n",
    "\n",
    "from hyperopt import fmin, tpe, hp, STATUS_OK, Trials\n",
    "from hyperopt.pyll import scope"
   ]
  },
  {
   "cell_type": "code",
   "execution_count": 5,
   "id": "eb4ace12",
   "metadata": {},
   "outputs": [],
   "source": [
    "def read_dataframe(filename):\n",
    "    df = pd.read_parquet(filename)\n",
    "\n",
    "    df.lpep_dropoff_datetime = pd.to_datetime(df.lpep_dropoff_datetime)\n",
    "    df.lpep_pickup_datetime = pd.to_datetime(df.lpep_pickup_datetime)\n",
    "\n",
    "    df['duration'] = df.lpep_dropoff_datetime - df.lpep_pickup_datetime\n",
    "    df['duration'] = df.duration.apply(lambda td: td.total_seconds() / 60)\n",
    "\n",
    "    df = df[((df.duration >= 0) & (df.duration <= 60))]\n",
    "\n",
    "    categorical = ['PULocationID', 'DOLocationID']\n",
    "    df[categorical] = df[categorical].astype(str)\n",
    "    \n",
    "    return df"
   ]
  },
  {
   "cell_type": "code",
   "execution_count": 6,
   "id": "ac79ff56",
   "metadata": {},
   "outputs": [],
   "source": [
    "df_train = read_dataframe('data/green_tripdata_2021-01.parquet')\n",
    "df_val = read_dataframe(\"data/green_tripdata_2021-02.parquet\")"
   ]
  },
  {
   "cell_type": "code",
   "execution_count": 7,
   "id": "b616bb23",
   "metadata": {},
   "outputs": [],
   "source": [
    "df_train['PU_DO'] = df_train['PULocationID'] + '_' + df_train['DOLocationID']\n",
    "df_val['PU_DO'] = df_val['PULocationID'] + '_' + df_val['DOLocationID']"
   ]
  },
  {
   "cell_type": "code",
   "execution_count": 8,
   "id": "530eaee0",
   "metadata": {},
   "outputs": [],
   "source": [
    "categorical = ['PU_DO']\n",
    "numerical = ['trip_distance']\n",
    "\n",
    "dv = DictVectorizer()\n",
    "\n",
    "train_dicts = df_train[categorical + numerical].to_dict(orient='records')\n",
    "X_train = dv.fit_transform(train_dicts)\n",
    "\n",
    "val_dicts = df_val[categorical + numerical].to_dict(orient='records')\n",
    "X_val = dv.transform(val_dicts)"
   ]
  },
  {
   "cell_type": "code",
   "execution_count": 9,
   "id": "b97a36e5",
   "metadata": {},
   "outputs": [],
   "source": [
    "target = 'duration'\n",
    "y_train = df_train[target].values\n",
    "y_val = df_val[target].values"
   ]
  },
  {
   "cell_type": "code",
   "execution_count": 11,
   "id": "29f82273",
   "metadata": {},
   "outputs": [],
   "source": [
    "# lr = LinearRegression()\n",
    "# lr.fit(X_train, y_train)\n",
    "\n",
    "# y_pred = lr.predict(X_val)\n",
    "\n",
    "# root_mean_squared_error(y_val, y_pred)"
   ]
  },
  {
   "cell_type": "code",
   "execution_count": 12,
   "id": "93a1728d",
   "metadata": {},
   "outputs": [],
   "source": [
    "# with open('models/lin_reg.bin', 'wb') as f_out:\n",
    "#     pickle.dump((dv, lr), f_out)"
   ]
  },
  {
   "cell_type": "code",
   "execution_count": 10,
   "id": "c4433bad",
   "metadata": {},
   "outputs": [
    {
     "name": "stderr",
     "output_type": "stream",
     "text": [
      "2025/07/22 16:10:38 WARNING mlflow.models.model: `artifact_path` is deprecated. Please use `name` instead.\n",
      "\u001b[31m2025/07/22 16:10:41 WARNING mlflow.models.model: Model logged without a signature and input example. Please set `input_example` parameter when logging the model to auto infer the model signature.\u001b[0m\n"
     ]
    }
   ],
   "source": [
    "import mlflow.sklearn\n",
    "\n",
    "\n",
    "with mlflow.start_run():\n",
    "    \n",
    "    mlflow.set_tag(\"developer\", \"ibrahim\")\n",
    "    \n",
    "    mlflow.log_param(\"train-data\", \"data/green_tripdata_2021-01.parquet\")\n",
    "    mlflow.log_param(\"valid-data\", \"data/green_tripdata_2021-02.parquet\")\n",
    "    \n",
    "    alpha = 0.1\n",
    "    mlflow.log_param(\"alpha\", alpha)\n",
    "    lr = Lasso(alpha)\n",
    "    lr.fit(X_train, y_train)\n",
    "\n",
    "    y_pred = lr.predict(X_val)\n",
    "\n",
    "    rmse = root_mean_squared_error(y_val, y_pred)\n",
    "    mlflow.log_metric(\"rmse\", rmse)\n",
    "    \n",
    "    mlflow.log_artifact(local_path=\"models/lin_reg.bin\", artifact_path=\"models_pickle\")\n",
    "    \n",
    "    with open(\"models/preprocessor.b\", \"wb\") as f_out:\n",
    "        pickle.dump(dv, f_out)\n",
    "     \n",
    "        mlflow.log_artifact(\"models/preprocessor.b\", artifact_path=\"preprocessor\")\n",
    "    \n",
    "    mlflow.sklearn.log_model(lr, artifact_path=\"models_mlflow_lr\")"
   ]
  },
  {
   "cell_type": "code",
   "execution_count": 14,
   "id": "e14c1cf0",
   "metadata": {},
   "outputs": [],
   "source": [
    "train = xgb.DMatrix(X_train, label=y_train)\n",
    "valid = xgb.DMatrix(X_val, label=y_val)"
   ]
  },
  {
   "cell_type": "code",
   "execution_count": 15,
   "id": "7207b431",
   "metadata": {},
   "outputs": [],
   "source": [
    "def objective(params):\n",
    "    \n",
    "    with mlflow.start_run():\n",
    "        mlflow.set_tag(\"model\", \"xgboost\")\n",
    "        mlflow.log_params(params)\n",
    "        booster = xgb.train(\n",
    "            params=params,\n",
    "            dtrain=train,\n",
    "            num_boost_round=1000,\n",
    "            evals=[(valid, \"validation\")],\n",
    "            early_stopping_rounds=50\n",
    "        )\n",
    "        \n",
    "        y_pred = booster.predict(valid)\n",
    "        rmse = root_mean_squared_error(y_val, y_pred)\n",
    "        mlflow.log_metric(\"rmse\", rmse)\n",
    "        \n",
    "    return {'loss': rmse, 'status': STATUS_OK}"
   ]
  },
  {
   "cell_type": "code",
   "execution_count": 16,
   "id": "3cd4ce75",
   "metadata": {},
   "outputs": [],
   "source": [
    "# search_space = {\n",
    "#     'max_depth': scope.int(hp.quniform('max_depth', 4, 100, 1)),\n",
    "#     'learning_rate': hp.loguniform('learning_rate', -3, 0),\n",
    "#     'reg_alpha': hp.loguniform('reg_alpha', -5, -1),\n",
    "#     'reg_lambda': hp.loguniform('reg_lambda', -6, -1),\n",
    "#     'min_child_weight': hp.loguniform('min_child_weight', -1, 3),\n",
    "#     'objective': 'reg:linear',\n",
    "#     'seed': 42\n",
    "# }\n",
    "\n",
    "# best_result = fmin(\n",
    "#     fn=objective,\n",
    "#     space=search_space,\n",
    "#     algo=tpe.suggest,\n",
    "#     max_evals=50,\n",
    "#     trials=Trials()\n",
    "# )"
   ]
  },
  {
   "cell_type": "code",
   "execution_count": 17,
   "id": "a5bcf79c",
   "metadata": {},
   "outputs": [],
   "source": [
    "mlflow.xgboost.autolog(disable=True)"
   ]
  },
  {
   "cell_type": "code",
   "execution_count": 18,
   "id": "5d099205",
   "metadata": {},
   "outputs": [],
   "source": [
    "# with mlflow.start_run():\n",
    "    \n",
    "#     train = xgb.DMatrix(X_train, label=y_train)\n",
    "#     valid = xgb.DMatrix(X_val, label=y_val)\n",
    "\n",
    "#     best_params = {\n",
    "#         'learning_rate': 0.09585355369315604,\n",
    "#         'max_depth': 30,\n",
    "#         'min_child_weight': 1.060597050922164,\n",
    "#         'objective': 'reg:linear',\n",
    "#         'reg_alpha': 0.018060244040060163,\n",
    "#         'reg_lambda': 0.011658731377413597,\n",
    "#         'seed': 42\n",
    "#     }\n",
    "\n",
    "#     mlflow.log_params(best_params)\n",
    "\n",
    "#     booster = xgb.train(\n",
    "#         params=best_params,\n",
    "#         dtrain=train,\n",
    "#         num_boost_round=1000,\n",
    "#         evals=[(valid, 'validation')],\n",
    "#         early_stopping_rounds=50\n",
    "#     )"
   ]
  },
  {
   "cell_type": "code",
   "execution_count": 19,
   "id": "dc06e61b",
   "metadata": {},
   "outputs": [],
   "source": [
    "# with mlflow.start_run():\n",
    "#      best_params = {\n",
    "#         'learning_rate': 0.09585355369315604,\n",
    "#         'max_depth': 30,\n",
    "#         'min_child_weight': 1.060597050922164,\n",
    "#         'objective': 'reg:linear',\n",
    "#         'reg_alpha': 0.018060244040060163,\n",
    "#         'reg_lambda': 0.011658731377413597,\n",
    "#         'seed': 42\n",
    "#     }\n",
    "     \n",
    "#      mlflow.log_params(best_params)\n",
    "     \n",
    "#      booster = xgb.train(\n",
    "#         params=best_params,\n",
    "#         dtrain=train,\n",
    "#         num_boost_round=1000,\n",
    "#         evals=[(valid, 'validation')],\n",
    "#         early_stopping_rounds=50)\n",
    "     \n",
    "#      y_pred = booster.predict(valid)\n",
    "#      rmse = mean_squared_error(y_val, y_pred)\n",
    "#      mlflow.log_metric(\"rmse\", rmse)\n",
    "     \n",
    "#      with open(\"models/preprocessor.b\", \"wb\") as f_out:\n",
    "#         pickle.dump(dv, f_out)\n",
    "     \n",
    "#      mlflow.log_artifact(\"models/preprocessor.b\", artifact_path=\"preprocessor\")\n",
    "     \n",
    "#      mlflow.xgboost.log_model(booster, artifact_path=\"models_mlflow\")"
   ]
  },
  {
   "cell_type": "code",
   "execution_count": 20,
   "id": "f2460eea",
   "metadata": {},
   "outputs": [],
   "source": [
    "# logged_model = \"runs:/9765afabd7014ae78236cf0c30969ece/models_mlflow\"\n",
    "# loaded_model = mlflow.pyfunc.load_model(logged_model)"
   ]
  },
  {
   "cell_type": "code",
   "execution_count": 21,
   "id": "77ea4f2e",
   "metadata": {},
   "outputs": [],
   "source": [
    "# loaded_model"
   ]
  },
  {
   "cell_type": "code",
   "execution_count": 22,
   "id": "b09eb2c5",
   "metadata": {},
   "outputs": [],
   "source": [
    "# import mlflow.xgboost\n",
    "\n",
    "\n",
    "# xgboost_model = mlflow.xgboost.load_model(logged_model)"
   ]
  },
  {
   "cell_type": "code",
   "execution_count": 23,
   "id": "b710eda9",
   "metadata": {},
   "outputs": [],
   "source": [
    "# xgboost_model"
   ]
  },
  {
   "cell_type": "code",
   "execution_count": 24,
   "id": "2abdbf8f",
   "metadata": {},
   "outputs": [],
   "source": [
    "# y_pred = xgboost_model.predict(valid)"
   ]
  }
 ],
 "metadata": {
  "kernelspec": {
   "display_name": "exp-tracking-env",
   "language": "python",
   "name": "python3"
  },
  "language_info": {
   "codemirror_mode": {
    "name": "ipython",
    "version": 3
   },
   "file_extension": ".py",
   "mimetype": "text/x-python",
   "name": "python",
   "nbconvert_exporter": "python",
   "pygments_lexer": "ipython3",
   "version": "3.9.23"
  }
 },
 "nbformat": 4,
 "nbformat_minor": 5
}
